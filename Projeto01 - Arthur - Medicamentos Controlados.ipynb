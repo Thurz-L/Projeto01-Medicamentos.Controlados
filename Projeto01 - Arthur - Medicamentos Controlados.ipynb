{
 "cells": [
  {
   "cell_type": "code",
   "execution_count": 112,
   "id": "764fd8a6",
   "metadata": {},
   "outputs": [],
   "source": [
    "#Importando bibliotecas Pandas, Numpy e Matplotplib\n",
    "import pandas as pd\n",
    "import numpy as np\n",
    "import matplotlib.pyplot as plt\n",
    "import seaborn as sns"
   ]
  },
  {
   "cell_type": "code",
   "execution_count": 113,
   "id": "7b32b8e1",
   "metadata": {
    "scrolled": false
   },
   "outputs": [
    {
     "name": "stderr",
     "output_type": "stream",
     "text": [
      "C:\\Users\\arthu\\anaconda3\\lib\\site-packages\\IPython\\core\\interactiveshell.py:3444: DtypeWarning: Columns (8) have mixed types.Specify dtype option on import or set low_memory=False.\n",
      "  exec(code_obj, self.user_global_ns, self.user_ns)\n",
      "C:\\Users\\arthu\\anaconda3\\lib\\site-packages\\IPython\\core\\interactiveshell.py:3444: DtypeWarning: Columns (13) have mixed types.Specify dtype option on import or set low_memory=False.\n",
      "  exec(code_obj, self.user_global_ns, self.user_ns)\n"
     ]
    }
   ],
   "source": [
    "#Definindo as variáveis dos arquivos CSV\n",
    "\n",
    "df = pd.read_csv('EDA_Manipulados_201707.csv', sep=';', encoding='latin1')\n",
    "df2 = pd.read_csv('EDA_Manipulados_201807.csv', sep=';', encoding='latin1')\n",
    "df3 = pd.read_csv('EDA_Manipulados_201907.csv', sep=';', encoding='latin1')\n",
    "df4 = pd.read_csv('EDA_Manipulados_202007.csv', sep=';', encoding='latin1')\n",
    "df5 = pd.read_csv('EDA_Manipulados_202107.csv', sep=';', encoding='latin1')"
   ]
  },
  {
   "cell_type": "code",
   "execution_count": 114,
   "id": "028cc001",
   "metadata": {
    "scrolled": true
   },
   "outputs": [
    {
     "data": {
      "text/html": [
       "<div>\n",
       "<style scoped>\n",
       "    .dataframe tbody tr th:only-of-type {\n",
       "        vertical-align: middle;\n",
       "    }\n",
       "\n",
       "    .dataframe tbody tr th {\n",
       "        vertical-align: top;\n",
       "    }\n",
       "\n",
       "    .dataframe thead th {\n",
       "        text-align: right;\n",
       "    }\n",
       "</style>\n",
       "<table border=\"1\" class=\"dataframe\">\n",
       "  <thead>\n",
       "    <tr style=\"text-align: right;\">\n",
       "      <th></th>\n",
       "      <th>ANO_VENDA</th>\n",
       "      <th>MES_VENDA</th>\n",
       "      <th>UF_VENDA</th>\n",
       "      <th>MUNICIPIO_VENDA</th>\n",
       "      <th>DCB</th>\n",
       "      <th>PRINCIPIO_ATIVO</th>\n",
       "      <th>QTD_ATIVO_POR_UNID_FARMACOTEC</th>\n",
       "      <th>UNIDADE_MEDIDA_PRINCIPIO_ATIVO</th>\n",
       "      <th>QTD_UNIDADE_FARMACOTECNICA</th>\n",
       "      <th>TIPO_UNIDADE_FARMACOTECNICA</th>\n",
       "      <th>CONSELHO_PRESCRITOR</th>\n",
       "      <th>UF_CONSELHO_PRESCRITOR</th>\n",
       "      <th>TIPO_RECEITUARIO</th>\n",
       "      <th>CID10</th>\n",
       "      <th>SEXO</th>\n",
       "      <th>IDADE</th>\n",
       "      <th>UNIDADE_IDADE</th>\n",
       "    </tr>\n",
       "  </thead>\n",
       "  <tbody>\n",
       "    <tr>\n",
       "      <th>0</th>\n",
       "      <td>2017</td>\n",
       "      <td>7</td>\n",
       "      <td>MG</td>\n",
       "      <td>UBERLÃNDIA</td>\n",
       "      <td>2686</td>\n",
       "      <td>DAPSONA</td>\n",
       "      <td>0,1</td>\n",
       "      <td>GRAMA</td>\n",
       "      <td>90</td>\n",
       "      <td>CÃPSULA</td>\n",
       "      <td>CRM</td>\n",
       "      <td>MG</td>\n",
       "      <td>5</td>\n",
       "      <td>NaN</td>\n",
       "      <td>1.0</td>\n",
       "      <td>37.0</td>\n",
       "      <td>1.0</td>\n",
       "    </tr>\n",
       "    <tr>\n",
       "      <th>1</th>\n",
       "      <td>2017</td>\n",
       "      <td>7</td>\n",
       "      <td>PR</td>\n",
       "      <td>CURITIBA</td>\n",
       "      <td>2229</td>\n",
       "      <td>CLINDAMICINA</td>\n",
       "      <td>0,0113</td>\n",
       "      <td>GRAMA</td>\n",
       "      <td>40</td>\n",
       "      <td>GRAMA</td>\n",
       "      <td>CRM</td>\n",
       "      <td>PR</td>\n",
       "      <td>5</td>\n",
       "      <td>NaN</td>\n",
       "      <td>2.0</td>\n",
       "      <td>30.0</td>\n",
       "      <td>1.0</td>\n",
       "    </tr>\n",
       "    <tr>\n",
       "      <th>2</th>\n",
       "      <td>2017</td>\n",
       "      <td>7</td>\n",
       "      <td>SP</td>\n",
       "      <td>CATANDUVA</td>\n",
       "      <td>8458</td>\n",
       "      <td>PROPIONATO DE TESTOSTERONA</td>\n",
       "      <td>0,002</td>\n",
       "      <td>GRAMA</td>\n",
       "      <td>60</td>\n",
       "      <td>COMPRIMIDO</td>\n",
       "      <td>CRM</td>\n",
       "      <td>SP</td>\n",
       "      <td>1</td>\n",
       "      <td>NaN</td>\n",
       "      <td>NaN</td>\n",
       "      <td>NaN</td>\n",
       "      <td>NaN</td>\n",
       "    </tr>\n",
       "    <tr>\n",
       "      <th>3</th>\n",
       "      <td>2017</td>\n",
       "      <td>7</td>\n",
       "      <td>MS</td>\n",
       "      <td>TRÃS LAGOAS</td>\n",
       "      <td>8848</td>\n",
       "      <td>TRETINOÃNA</td>\n",
       "      <td>0,001</td>\n",
       "      <td>MILILITRO</td>\n",
       "      <td>480</td>\n",
       "      <td>MILILITRO</td>\n",
       "      <td>CRM</td>\n",
       "      <td>MS</td>\n",
       "      <td>1</td>\n",
       "      <td>NaN</td>\n",
       "      <td>NaN</td>\n",
       "      <td>NaN</td>\n",
       "      <td>NaN</td>\n",
       "    </tr>\n",
       "    <tr>\n",
       "      <th>4</th>\n",
       "      <td>2017</td>\n",
       "      <td>7</td>\n",
       "      <td>MG</td>\n",
       "      <td>ITAÃNA</td>\n",
       "      <td>597</td>\n",
       "      <td>ALPRAZOLAM</td>\n",
       "      <td>0,002</td>\n",
       "      <td>GRAMA</td>\n",
       "      <td>240</td>\n",
       "      <td>CÃPSULA</td>\n",
       "      <td>CRM</td>\n",
       "      <td>MG</td>\n",
       "      <td>2</td>\n",
       "      <td>NaN</td>\n",
       "      <td>1.0</td>\n",
       "      <td>0.0</td>\n",
       "      <td>1.0</td>\n",
       "    </tr>\n",
       "    <tr>\n",
       "      <th>...</th>\n",
       "      <td>...</td>\n",
       "      <td>...</td>\n",
       "      <td>...</td>\n",
       "      <td>...</td>\n",
       "      <td>...</td>\n",
       "      <td>...</td>\n",
       "      <td>...</td>\n",
       "      <td>...</td>\n",
       "      <td>...</td>\n",
       "      <td>...</td>\n",
       "      <td>...</td>\n",
       "      <td>...</td>\n",
       "      <td>...</td>\n",
       "      <td>...</td>\n",
       "      <td>...</td>\n",
       "      <td>...</td>\n",
       "      <td>...</td>\n",
       "    </tr>\n",
       "    <tr>\n",
       "      <th>390806</th>\n",
       "      <td>2021</td>\n",
       "      <td>7</td>\n",
       "      <td>TO</td>\n",
       "      <td>PORTO NACIONAL</td>\n",
       "      <td>6000</td>\n",
       "      <td>MIRTAZAPINA</td>\n",
       "      <td>0,01</td>\n",
       "      <td>GRAMA</td>\n",
       "      <td>60</td>\n",
       "      <td>CÃPSULA</td>\n",
       "      <td>CRM</td>\n",
       "      <td>TO</td>\n",
       "      <td>1</td>\n",
       "      <td>NaN</td>\n",
       "      <td>NaN</td>\n",
       "      <td>NaN</td>\n",
       "      <td>NaN</td>\n",
       "    </tr>\n",
       "    <tr>\n",
       "      <th>390807</th>\n",
       "      <td>2021</td>\n",
       "      <td>7</td>\n",
       "      <td>TO</td>\n",
       "      <td>PORTO NACIONAL</td>\n",
       "      <td>7539</td>\n",
       "      <td>HEMIFUMARATO DE QUETIAPINA</td>\n",
       "      <td>0,015</td>\n",
       "      <td>GRAMA</td>\n",
       "      <td>60</td>\n",
       "      <td>CÃPSULA</td>\n",
       "      <td>CRM</td>\n",
       "      <td>TO</td>\n",
       "      <td>1</td>\n",
       "      <td>NaN</td>\n",
       "      <td>NaN</td>\n",
       "      <td>NaN</td>\n",
       "      <td>NaN</td>\n",
       "    </tr>\n",
       "    <tr>\n",
       "      <th>390808</th>\n",
       "      <td>2021</td>\n",
       "      <td>7</td>\n",
       "      <td>TO</td>\n",
       "      <td>PORTO NACIONAL</td>\n",
       "      <td>8448</td>\n",
       "      <td>TESTOSTERONA</td>\n",
       "      <td>0,01</td>\n",
       "      <td>GRAMA</td>\n",
       "      <td>150</td>\n",
       "      <td>GRAMA</td>\n",
       "      <td>CRM</td>\n",
       "      <td>TO</td>\n",
       "      <td>1</td>\n",
       "      <td>NaN</td>\n",
       "      <td>NaN</td>\n",
       "      <td>NaN</td>\n",
       "      <td>NaN</td>\n",
       "    </tr>\n",
       "    <tr>\n",
       "      <th>390809</th>\n",
       "      <td>2021</td>\n",
       "      <td>7</td>\n",
       "      <td>TO</td>\n",
       "      <td>PORTO NACIONAL</td>\n",
       "      <td>9296</td>\n",
       "      <td>HEMITARTARATO DE ZOLPIDEM</td>\n",
       "      <td>0,01</td>\n",
       "      <td>GRAMA</td>\n",
       "      <td>60</td>\n",
       "      <td>CÃPSULA</td>\n",
       "      <td>CRM</td>\n",
       "      <td>DF</td>\n",
       "      <td>1</td>\n",
       "      <td>NaN</td>\n",
       "      <td>NaN</td>\n",
       "      <td>NaN</td>\n",
       "      <td>NaN</td>\n",
       "    </tr>\n",
       "    <tr>\n",
       "      <th>390810</th>\n",
       "      <td>2021</td>\n",
       "      <td>7</td>\n",
       "      <td>TO</td>\n",
       "      <td>PORTO NACIONAL</td>\n",
       "      <td>9296</td>\n",
       "      <td>HEMITARTARATO DE ZOLPIDEM</td>\n",
       "      <td>0,01</td>\n",
       "      <td>GRAMA</td>\n",
       "      <td>60</td>\n",
       "      <td>CÃPSULA</td>\n",
       "      <td>CRM</td>\n",
       "      <td>TO</td>\n",
       "      <td>1</td>\n",
       "      <td>NaN</td>\n",
       "      <td>NaN</td>\n",
       "      <td>NaN</td>\n",
       "      <td>NaN</td>\n",
       "    </tr>\n",
       "  </tbody>\n",
       "</table>\n",
       "<p>1770980 rows × 17 columns</p>\n",
       "</div>"
      ],
      "text/plain": [
       "        ANO_VENDA  MES_VENDA UF_VENDA MUNICIPIO_VENDA   DCB  \\\n",
       "0            2017          7       MG     UBERLÃNDIA  2686   \n",
       "1            2017          7       PR        CURITIBA  2229   \n",
       "2            2017          7       SP       CATANDUVA  8458   \n",
       "3            2017          7       MS    TRÃS LAGOAS  8848   \n",
       "4            2017          7       MG         ITAÃNA   597   \n",
       "...           ...        ...      ...             ...   ...   \n",
       "390806       2021          7       TO  PORTO NACIONAL  6000   \n",
       "390807       2021          7       TO  PORTO NACIONAL  7539   \n",
       "390808       2021          7       TO  PORTO NACIONAL  8448   \n",
       "390809       2021          7       TO  PORTO NACIONAL  9296   \n",
       "390810       2021          7       TO  PORTO NACIONAL  9296   \n",
       "\n",
       "                   PRINCIPIO_ATIVO QTD_ATIVO_POR_UNID_FARMACOTEC  \\\n",
       "0                          DAPSONA                           0,1   \n",
       "1                     CLINDAMICINA                        0,0113   \n",
       "2       PROPIONATO DE TESTOSTERONA                         0,002   \n",
       "3                      TRETINOÃNA                         0,001   \n",
       "4                       ALPRAZOLAM                         0,002   \n",
       "...                            ...                           ...   \n",
       "390806                 MIRTAZAPINA                          0,01   \n",
       "390807  HEMIFUMARATO DE QUETIAPINA                         0,015   \n",
       "390808                TESTOSTERONA                          0,01   \n",
       "390809   HEMITARTARATO DE ZOLPIDEM                          0,01   \n",
       "390810   HEMITARTARATO DE ZOLPIDEM                          0,01   \n",
       "\n",
       "       UNIDADE_MEDIDA_PRINCIPIO_ATIVO QTD_UNIDADE_FARMACOTECNICA  \\\n",
       "0                               GRAMA                         90   \n",
       "1                               GRAMA                         40   \n",
       "2                               GRAMA                         60   \n",
       "3                           MILILITRO                        480   \n",
       "4                               GRAMA                        240   \n",
       "...                               ...                        ...   \n",
       "390806                          GRAMA                         60   \n",
       "390807                          GRAMA                         60   \n",
       "390808                          GRAMA                        150   \n",
       "390809                          GRAMA                         60   \n",
       "390810                          GRAMA                         60   \n",
       "\n",
       "       TIPO_UNIDADE_FARMACOTECNICA CONSELHO_PRESCRITOR UF_CONSELHO_PRESCRITOR  \\\n",
       "0                         CÃPSULA                 CRM                     MG   \n",
       "1                            GRAMA                 CRM                     PR   \n",
       "2                       COMPRIMIDO                 CRM                     SP   \n",
       "3                        MILILITRO                 CRM                     MS   \n",
       "4                         CÃPSULA                 CRM                     MG   \n",
       "...                            ...                 ...                    ...   \n",
       "390806                    CÃPSULA                 CRM                     TO   \n",
       "390807                    CÃPSULA                 CRM                     TO   \n",
       "390808                       GRAMA                 CRM                     TO   \n",
       "390809                    CÃPSULA                 CRM                     DF   \n",
       "390810                    CÃPSULA                 CRM                     TO   \n",
       "\n",
       "        TIPO_RECEITUARIO CID10  SEXO  IDADE  UNIDADE_IDADE  \n",
       "0                      5   NaN   1.0   37.0            1.0  \n",
       "1                      5   NaN   2.0   30.0            1.0  \n",
       "2                      1   NaN   NaN    NaN            NaN  \n",
       "3                      1   NaN   NaN    NaN            NaN  \n",
       "4                      2   NaN   1.0    0.0            1.0  \n",
       "...                  ...   ...   ...    ...            ...  \n",
       "390806                 1   NaN   NaN    NaN            NaN  \n",
       "390807                 1   NaN   NaN    NaN            NaN  \n",
       "390808                 1   NaN   NaN    NaN            NaN  \n",
       "390809                 1   NaN   NaN    NaN            NaN  \n",
       "390810                 1   NaN   NaN    NaN            NaN  \n",
       "\n",
       "[1770980 rows x 17 columns]"
      ]
     },
     "metadata": {},
     "output_type": "display_data"
    }
   ],
   "source": [
    "#Utilizando a variável tabela_unica para concatenar os 2 CSV em uma única planilha\n",
    "\n",
    "tabela_unica = pd.concat([df,df2,df3,df4,df5], axis=0, join='inner')\n",
    "display(tabela_unica)\n",
    "\n"
   ]
  },
  {
   "cell_type": "code",
   "execution_count": 155,
   "id": "33107e4d",
   "metadata": {},
   "outputs": [],
   "source": [
    "#based on https://stackoverflow.com/questions/17071871/how-do-i-select-rows-from-a-dataframe-based-on-column-values\n",
    "principio_ativo = 'ALPRAZOLAM'\n",
    "principio_ativo2 = 'CLONAZEPAM'\n",
    "principio_ativo3 = 'BROMAZEPAM'\n",
    "principio_ativo4 = 'LORAZEPAM'\n",
    "principio_ativo5 = 'FLUOXETINA'\n",
    "principio_ativo6 = 'ESCITALOPRAM'\n",
    "principio_ativo7 = 'MIRTAZAPINA'\n",
    "principio_ativo8 = 'DULOXETINA'\n",
    "principio_ativo9 = 'IVERMECTINA'\n",
    "principio_ativo10 = 'CLOROQUINA'\n",
    "principio_ativo11 = 'HIDROXICLOROQUINA'\n",
    "principio_ativo12 = 'AZITROMICINA'\n",
    "filtered_df = tabela_unica.loc[tabela_unica['PRINCIPIO_ATIVO'] == principio_ativo]\n",
    "filtered_df2 = tabela_unica.loc[tabela_unica['PRINCIPIO_ATIVO'] == principio_ativo2]\n",
    "filtered_df3 = tabela_unica.loc[tabela_unica['PRINCIPIO_ATIVO'] == principio_ativo3]\n",
    "filtered_df4 = tabela_unica.loc[tabela_unica['PRINCIPIO_ATIVO'] == principio_ativo4]\n",
    "filtered_df5 = tabela_unica.loc[tabela_unica['PRINCIPIO_ATIVO'] == principio_ativo5]\n",
    "filtered_df6 = tabela_unica.loc[tabela_unica['PRINCIPIO_ATIVO'] == principio_ativo6]\n",
    "filtered_df7 = tabela_unica.loc[tabela_unica['PRINCIPIO_ATIVO'] == principio_ativo7]\n",
    "filtered_df8 = tabela_unica.loc[tabela_unica['PRINCIPIO_ATIVO'] == principio_ativo8]\n",
    "filtered_df9 = tabela_unica.loc[tabela_unica['PRINCIPIO_ATIVO'] == principio_ativo9]\n",
    "filtered_df10 = tabela_unica.loc[tabela_unica['PRINCIPIO_ATIVO'] == principio_ativo10]\n",
    "filtered_df11 = tabela_unica.loc[tabela_unica['PRINCIPIO_ATIVO'] == principio_ativo11]\n",
    "filtered_df12 = tabela_unica.loc[tabela_unica['PRINCIPIO_ATIVO'] == principio_ativo12]\n"
   ]
  },
  {
   "cell_type": "code",
   "execution_count": 156,
   "id": "bcfd16cc",
   "metadata": {
    "scrolled": true
   },
   "outputs": [
    {
     "data": {
      "image/png": "[encoded data removed]",
      "text/plain": [
       "<Figure size 432x288 with 1 Axes>"
      ]
     },
     "metadata": {
      "needs_background": "light"
     },
     "output_type": "display_data"
    }
   ],
   "source": [
    "ax = filtered_df['ANO_VENDA'].value_counts().sort_index().plot(kind='bar', title=f'Consumo de {principio_ativo}')\n"
   ]
  },
  {
   "cell_type": "code",
   "execution_count": 135,
   "id": "f5098baf",
   "metadata": {},
   "outputs": [
    {
     "data": {
      "image/png": "[encoded data removed]",
      "text/plain": [
       "<Figure size 432x288 with 1 Axes>"
      ]
     },
     "metadata": {
      "needs_background": "light"
     },
     "output_type": "display_data"
    }
   ],
   "source": [
    "ax = filtered_df2['ANO_VENDA'].value_counts().sort_index().plot(kind='bar', title=f'Consumo de {principio_ativo2}', color='brown')\n",
    "ax = ax.set_ylabel('Quantidade', fontsize=12)"
   ]
  },
  {
   "cell_type": "code",
   "execution_count": 75,
   "id": "4b90568d",
   "metadata": {},
   "outputs": [
    {
     "data": {
      "image/png": "[encoded data removed]",
      "text/plain": [
       "<Figure size 432x288 with 1 Axes>"
      ]
     },
     "metadata": {
      "needs_background": "light"
     },
     "output_type": "display_data"
    }
   ],
   "source": [
    "ax = filtered_df3['ANO_VENDA'].value_counts().sort_index().plot(kind='bar', title=f'Consumo de {principio_ativo3}', color='salmon')\n",
    "ax = ax.set_ylabel('Quantidade', fontsize=12)"
   ]
  },
  {
   "cell_type": "code",
   "execution_count": 76,
   "id": "966c2a2c",
   "metadata": {},
   "outputs": [
    {
     "data": {
      "image/png": "[encoded data removed]",
      "text/plain": [
       "<Figure size 432x288 with 1 Axes>"
      ]
     },
     "metadata": {
      "needs_background": "light"
     },
     "output_type": "display_data"
    }
   ],
   "source": [
    "ax = filtered_df4['ANO_VENDA'].value_counts().sort_index().plot(kind='bar', title=f'Consumo de {principio_ativo4}', color='chocolate')\n",
    "ax = ax.set_ylabel('Quantidade', fontsize=12)"
   ]
  },
  {
   "cell_type": "code",
   "execution_count": 157,
   "id": "86282c7c",
   "metadata": {},
   "outputs": [
    {
     "data": {
      "image/png": "[encoded data removed]",
      "text/plain": [
       "<Figure size 432x288 with 1 Axes>"
      ]
     },
     "metadata": {
      "needs_background": "light"
     },
     "output_type": "display_data"
    }
   ],
   "source": [
    "ax = filtered_df5['ANO_VENDA'].value_counts().sort_index().plot(kind='bar', title=f'Consumo de {principio_ativo5}', color='tan')\n",
    "ax = ax.set_ylabel('Quantidade', fontsize=12)"
   ]
  },
  {
   "cell_type": "code",
   "execution_count": 158,
   "id": "a15fb72b",
   "metadata": {},
   "outputs": [
    {
     "data": {
      "image/png": "[encoded data removed]",
      "text/plain": [
       "<Figure size 432x288 with 1 Axes>"
      ]
     },
     "metadata": {
      "needs_background": "light"
     },
     "output_type": "display_data"
    }
   ],
   "source": [
    "ax = filtered_df6['ANO_VENDA'].value_counts().sort_index().plot(kind='bar', title=f'Consumo de {principio_ativo6}', color='navy')\n",
    "ax = ax.set_ylabel('Quantidade', fontsize=12)"
   ]
  },
  {
   "cell_type": "code",
   "execution_count": 159,
   "id": "94b177ae",
   "metadata": {},
   "outputs": [
    {
     "data": {
      "image/png": "[encoded data removed]",
      "text/plain": [
       "<Figure size 432x288 with 1 Axes>"
      ]
     },
     "metadata": {
      "needs_background": "light"
     },
     "output_type": "display_data"
    }
   ],
   "source": [
    "ax = filtered_df7['ANO_VENDA'].value_counts().sort_index().plot(kind='bar', title=f'Consumo de {principio_ativo7}', color='thistle')\n",
    "ax = ax.set_ylabel('Quantidade', fontsize=12)"
   ]
  },
  {
   "cell_type": "code",
   "execution_count": 160,
   "id": "09251696",
   "metadata": {},
   "outputs": [
    {
     "data": {
      "image/png": "[encoded data removed]",
      "text/plain": [
       "<Figure size 432x288 with 1 Axes>"
      ]
     },
     "metadata": {
      "needs_background": "light"
     },
     "output_type": "display_data"
    }
   ],
   "source": [
    "ax = filtered_df8['ANO_VENDA'].value_counts().sort_index().plot(kind='bar', title=f'Consumo de {principio_ativo8}', color='orchid')\n",
    "ax = ax.set_ylabel('Quantidade', fontsize=12)"
   ]
  },
  {
   "cell_type": "code",
   "execution_count": 162,
   "id": "b6d44fcf",
   "metadata": {},
   "outputs": [
    {
     "data": {
      "image/png": "[encoded data removed]",
      "text/plain": [
       "<Figure size 432x288 with 1 Axes>"
      ]
     },
     "metadata": {
      "needs_background": "light"
     },
     "output_type": "display_data"
    }
   ],
   "source": [
    "ax = filtered_df9['ANO_VENDA'].value_counts().sort_index().plot(kind='bar', title=f'Consumo de {principio_ativo9}', color='sienna')\n",
    "ax = ax.set_ylabel('Quantidade', fontsize=12)"
   ]
  },
  {
   "cell_type": "code",
   "execution_count": 163,
   "id": "3d8585d0",
   "metadata": {},
   "outputs": [
    {
     "data": {
      "image/png": "[encoded data removed]",
      "text/plain": [
       "<Figure size 432x288 with 1 Axes>"
      ]
     },
     "metadata": {
      "needs_background": "light"
     },
     "output_type": "display_data"
    }
   ],
   "source": [
    "ax = filtered_df10['ANO_VENDA'].value_counts().sort_index().plot(kind='bar', title=f'Consumo de {principio_ativo10}', color='crimson')\n",
    "ax = ax.set_ylabel('Quantidade', fontsize=12)"
   ]
  },
  {
   "cell_type": "code",
   "execution_count": 164,
   "id": "c1c33c08",
   "metadata": {
    "scrolled": false
   },
   "outputs": [
    {
     "data": {
      "image/png": "[encoded data removed]",
      "text/plain": [
       "<Figure size 432x288 with 1 Axes>"
      ]
     },
     "metadata": {
      "needs_background": "light"
     },
     "output_type": "display_data"
    }
   ],
   "source": [
    "ax = filtered_df11['ANO_VENDA'].value_counts().sort_index().plot(kind='bar', title=f'Consumo de {principio_ativo11}', color='slateblue')\n",
    "ax = ax.set_ylabel('Quantidade', fontsize=12)"
   ]
  },
  {
   "cell_type": "code",
   "execution_count": 165,
   "id": "8d807b9e",
   "metadata": {},
   "outputs": [
    {
     "data": {
      "image/png": "[encoded data removed]",
      "text/plain": [
       "<Figure size 432x288 with 1 Axes>"
      ]
     },
     "metadata": {
      "needs_background": "light"
     },
     "output_type": "display_data"
    }
   ],
   "source": [
    "ax = filtered_df12['ANO_VENDA'].value_counts().sort_index().plot(kind='bar', title=f'Consumo de {principio_ativo12}', color='royalblue')\n",
    "ax = ax.set_ylabel('Quantidade', fontsize=12)"
   ]
  },
  {
   "cell_type": "code",
   "execution_count": null,
   "id": "9a7e39b1",
   "metadata": {},
   "outputs": [],
   "source": []
  }
 ],
 "metadata": {
  "kernelspec": {
   "display_name": "Python 3 (ipykernel)",
   "language": "python",
   "name": "python3"
  },
  "language_info": {
   "codemirror_mode": {
    "name": "ipython",
    "version": 3
   },
   "file_extension": ".py",
   "mimetype": "text/x-python",
   "name": "python",
   "nbconvert_exporter": "python",
   "pygments_lexer": "ipython3",
   "version": "3.9.7"
  },
  "vscode": {
   "interpreter": {
    "hash": "5ae32fb5ad03cd152fb6745e3a4739721c4fd8b9b09d151449a7fc102def395a"
   }
  }
 },
 "nbformat": 4,
 "nbformat_minor": 5
}
